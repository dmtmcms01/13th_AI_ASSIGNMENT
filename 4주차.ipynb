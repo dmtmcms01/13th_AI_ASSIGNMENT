{
  "cells": [
    {
      "cell_type": "markdown",
      "metadata": {
        "id": "view-in-github",
        "colab_type": "text"
      },
      "source": [
        "<a href=\"https://colab.research.google.com/github/dmtmcms01/13th_AI_ASSIGNMENT/blob/main/4%EC%A3%BC%EC%B0%A8.ipynb\" target=\"_parent\"><img src=\"https://colab.research.google.com/assets/colab-badge.svg\" alt=\"Open In Colab\"/></a>"
      ]
    },
    {
      "cell_type": "code",
      "execution_count": 11,
      "id": "27cabdd4-f92c-4671-b2d1-2c8832537203",
      "metadata": {
        "id": "27cabdd4-f92c-4671-b2d1-2c8832537203"
      },
      "outputs": [],
      "source": [
        "import torch\n",
        "import torch.nn as nn\n",
        "import numpy\n",
        "import torchvision.datasets as datasets\n",
        "import torchvision.transforms as transforms\n",
        "from torch.utils.data import DataLoader\n",
        "import torch.nn.init\n",
        "import matplotlib.pyplot as plt"
      ]
    },
    {
      "cell_type": "code",
      "execution_count": 15,
      "id": "775426b7-6d53-45e2-a30a-2f5b4d1dda45",
      "metadata": {
        "id": "775426b7-6d53-45e2-a30a-2f5b4d1dda45"
      },
      "outputs": [],
      "source": [
        "rate=0.001\n",
        "epoch=20\n",
        "batch_size = 64"
      ]
    },
    {
      "cell_type": "code",
      "execution_count": 13,
      "id": "6bf508a3-83c0-4b9a-bddc-a6e6d969c812",
      "metadata": {
        "colab": {
          "base_uri": "https://localhost:8080/"
        },
        "id": "6bf508a3-83c0-4b9a-bddc-a6e6d969c812",
        "outputId": "28bce713-7540-49bb-c1dc-a954c7a243a9"
      },
      "outputs": [
        {
          "output_type": "stream",
          "name": "stdout",
          "text": [
            "cuda\n"
          ]
        }
      ],
      "source": [
        "device = torch.device(\"cuda\" if torch.cuda.is_available() else \"cpu\")\n",
        "print(device)"
      ]
    },
    {
      "cell_type": "code",
      "execution_count": 21,
      "id": "2a844880-edbd-46c0-b3d8-4b5a0330fe19",
      "metadata": {
        "id": "2a844880-edbd-46c0-b3d8-4b5a0330fe19"
      },
      "outputs": [],
      "source": [
        "Fashionmnist_train = datasets.FashionMNIST(\n",
        "    root='FashionMNIST/',\n",
        "    train=True,\n",
        "    transform=transforms.ToTensor(),\n",
        "    download=True\n",
        ")\n",
        "\n",
        "Fashionmnist_test = datasets.FashionMNIST(\n",
        "    root='FashionMNIST/',\n",
        "    train=False,\n",
        "    transform=transforms.ToTensor(),\n",
        "    download=True\n",
        ")"
      ]
    },
    {
      "cell_type": "code",
      "execution_count": 25,
      "id": "3e1bbc00-4113-433f-aaeb-46404e1d1d79",
      "metadata": {
        "id": "3e1bbc00-4113-433f-aaeb-46404e1d1d79"
      },
      "outputs": [],
      "source": [
        "data = DataLoader(Fashionmnist_train, batch_size=batch_size, shuffle=True)\n",
        "test_data = DataLoader(Fashionmnist_test, batch_size=batch_size)"
      ]
    },
    {
      "cell_type": "markdown",
      "source": [],
      "metadata": {
        "id": "cz0aO4cEEDMt"
      },
      "id": "cz0aO4cEEDMt"
    },
    {
      "cell_type": "code",
      "execution_count": 18,
      "id": "838c4548-e69b-4cab-baa0-1296a2614953",
      "metadata": {
        "id": "838c4548-e69b-4cab-baa0-1296a2614953"
      },
      "outputs": [],
      "source": [
        "class CNN(nn.Module):\n",
        "    def __init__(self):\n",
        "        super(CNN, self).__init__()\n",
        "        self.model = nn.Sequential(\n",
        "            nn.Conv2d(1, 32, kernel_size=3, stride=1, padding=1),\n",
        "            nn.ReLU(),\n",
        "            nn.MaxPool2d(2), # B,32,14,14\n",
        "\n",
        "            nn.Conv2d(32, 64, kernel_size=3, stride=1, padding=1),\n",
        "            nn.ReLU(),\n",
        "            nn.MaxPool2d(2), # B,64,7,7\n",
        "\n",
        "            nn.Conv2d(64, 128, kernel_size=3, stride=1, padding=1),\n",
        "            nn.ReLU(),\n",
        "            nn.MaxPool2d(2), # B,128,3,3\n",
        "\n",
        "            nn.Flatten(),\n",
        "\n",
        "            nn.Linear(128 * 3* 3, 256, bias=True),\n",
        "            nn.Linear(256, 10)\n",
        "        )\n",
        "\n",
        "    def forward(self, x):\n",
        "      return self.model(x)"
      ]
    },
    {
      "cell_type": "code",
      "execution_count": 19,
      "id": "b003f8ad-5970-460d-95d1-19648b703531",
      "metadata": {
        "id": "b003f8ad-5970-460d-95d1-19648b703531"
      },
      "outputs": [],
      "source": [
        "model = CNN().to(device)\n",
        "cr = nn.CrossEntropyLoss()\n",
        "optimizer = torch.optim.Adam(model.parameters(), lr=rate)"
      ]
    },
    {
      "cell_type": "markdown",
      "source": [],
      "metadata": {
        "id": "feRmLA1sBxpV"
      },
      "id": "feRmLA1sBxpV"
    },
    {
      "cell_type": "code",
      "execution_count": 27,
      "id": "36ec9603-1b09-4b63-9f6c-11e17e0060a1",
      "metadata": {
        "colab": {
          "base_uri": "https://localhost:8080/"
        },
        "id": "36ec9603-1b09-4b63-9f6c-11e17e0060a1",
        "outputId": "d3c9c61d-8b83-44c8-cd97-f1090a3bf5ba"
      },
      "outputs": [
        {
          "output_type": "stream",
          "name": "stdout",
          "text": [
            "[Epoch 1] Cost: 0.05, train_acc: 98.30\n",
            "[Epoch 2] Cost: 0.04, train_acc: 98.46\n",
            "[Epoch 3] Cost: 0.04, train_acc: 98.45\n",
            "[Epoch 4] Cost: 0.04, train_acc: 98.59\n",
            "[Epoch 5] Cost: 0.04, train_acc: 98.58\n",
            "[Epoch 6] Cost: 0.03, train_acc: 98.80\n",
            "[Epoch 7] Cost: 0.03, train_acc: 98.81\n",
            "[Epoch 8] Cost: 0.04, train_acc: 98.73\n",
            "[Epoch 9] Cost: 0.03, train_acc: 98.91\n",
            "[Epoch 10] Cost: 0.04, train_acc: 98.65\n",
            "[Epoch 11] Cost: 0.03, train_acc: 98.93\n",
            "[Epoch 12] Cost: 0.03, train_acc: 98.89\n",
            "[Epoch 13] Cost: 0.03, train_acc: 98.92\n",
            "[Epoch 14] Cost: 0.03, train_acc: 99.01\n",
            "[Epoch 15] Cost: 0.03, train_acc: 98.99\n",
            "[Epoch 16] Cost: 0.03, train_acc: 99.01\n",
            "[Epoch 17] Cost: 0.03, train_acc: 99.03\n",
            "[Epoch 18] Cost: 0.03, train_acc: 99.05\n",
            "[Epoch 19] Cost: 0.03, train_acc: 99.10\n"
          ]
        }
      ],
      "source": [
        "for epoch in range(epoch):\n",
        "  model.train()\n",
        "  cor = 0\n",
        "  tot = 0\n",
        "  cost = 0\n",
        "  for image, label in data:\n",
        "    image= image.to(device)\n",
        "    label= label.to(device)\n",
        "\n",
        "    optimizer.zero_grad()\n",
        "\n",
        "    pred = model(image)\n",
        "    loss = cr(pred, label)\n",
        "    loss.backward()\n",
        "    optimizer.step()\n",
        "    cost += loss / len(data)\n",
        "\n",
        "    cor += (torch.argmax(pred, dim=1)==label).float().sum()\n",
        "    tot += label.size(0)\n",
        "    acc = 100 * cor / tot\n",
        "  print(f\"[Epoch {epoch+1}] Cost: {cost:.2f}, train_acc: {acc:.2f}\")\n",
        "\n"
      ]
    },
    {
      "cell_type": "code",
      "execution_count": 28,
      "id": "5d80a3cb-ba1b-4772-8db1-1782252687c6",
      "metadata": {
        "colab": {
          "base_uri": "https://localhost:8080/"
        },
        "id": "5d80a3cb-ba1b-4772-8db1-1782252687c6",
        "outputId": "4a604cc3-e2e8-47d1-e5be-70f98560d1ac"
      },
      "outputs": [
        {
          "output_type": "stream",
          "name": "stdout",
          "text": [
            "Accuracy: 91.16%\n"
          ]
        }
      ],
      "source": [
        "model.eval()\n",
        "\n",
        "with torch.no_grad():\n",
        "  cor = 0\n",
        "  tot = 0\n",
        "  for image, label in test_data:\n",
        "    image = image.to(device)\n",
        "    label = label.to(device)\n",
        "\n",
        "    pred = model(image)\n",
        "    loss = cr(pred, label)\n",
        "\n",
        "    cor += (torch.argmax(pred, dim=1)==label).float().sum()\n",
        "    tot += label.size(0)\n",
        "    acc = 100 * cor / tot\n",
        "  print(f\"Accuracy: {acc:.2f}%\")\n",
        "\n"
      ]
    },
    {
      "cell_type": "code",
      "execution_count": null,
      "id": "fcca31ca-a074-4c0a-90eb-339ed0483235",
      "metadata": {
        "id": "fcca31ca-a074-4c0a-90eb-339ed0483235"
      },
      "outputs": [],
      "source": []
    }
  ],
  "metadata": {
    "kernelspec": {
      "display_name": "Python 3",
      "name": "python3"
    },
    "language_info": {
      "codemirror_mode": {
        "name": "ipython",
        "version": 3
      },
      "file_extension": ".py",
      "mimetype": "text/x-python",
      "name": "python",
      "nbconvert_exporter": "python",
      "pygments_lexer": "ipython3",
      "version": "3.11.5"
    },
    "colab": {
      "provenance": [],
      "gpuType": "T4",
      "include_colab_link": true
    },
    "accelerator": "GPU"
  },
  "nbformat": 4,
  "nbformat_minor": 5
}